{
 "cells": [
  {
   "cell_type": "markdown",
   "metadata": {},
   "source": [
    "#                                                                                    \n",
    "\n",
    "- Generative AI\n",
    "- Augment skills of user \n",
    "- To become harder, better, faster, stronger \n",
    "\n",
    "Title on education??? \n",
    "\n",
    "Variance (benefit, distinction for users) \n",
    "1. AI makes its users harder, better, faster, stronger \n",
    "2. The only ethical question in this domain then is equity/access to AI (not whether you should use it)\n",
    "\n",
    "Bias (harm, selective for unable to secure 🆔)\n",
    "1. Equity-justice-privacy with biased algorithms \n",
    "2. AI is only as good as the data it was trained on \n",
    "3. Generative AI as well as XX AI may make harder, better, faster, stronger the very systemic biases underlying the data-generating process on which it’s algorithms were trained "
   ]
  }
 ],
 "metadata": {
  "kernelspec": {
   "display_name": "Python 3",
   "language": "python",
   "name": "python3"
  },
  "language_info": {
   "codemirror_mode": {
    "name": "ipython",
    "version": 3
   },
   "file_extension": ".py",
   "mimetype": "text/x-python",
   "name": "python",
   "nbconvert_exporter": "python",
   "pygments_lexer": "ipython3",
   "version": "3.11.2"
  }
 },
 "nbformat": 4,
 "nbformat_minor": 2
}